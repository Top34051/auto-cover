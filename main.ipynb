{
 "cells": [
  {
   "cell_type": "code",
   "execution_count": 1,
   "source": [
    "# import numpy as np\n",
    "# np.load('data/train/city-pop.npy').shape"
   ],
   "outputs": [],
   "metadata": {}
  },
  {
   "cell_type": "code",
   "execution_count": 2,
   "source": [
    "import numpy as np\n",
    "import torch\n",
    "from model.generator import Generator\n",
    "from model.discriminator import Discriminator"
   ],
   "outputs": [],
   "metadata": {}
  },
  {
   "cell_type": "code",
   "execution_count": 3,
   "source": [
    "gen = Generator()\n",
    "dis = Discriminator()"
   ],
   "outputs": [
    {
     "output_type": "stream",
     "name": "stderr",
     "text": [
      "/harddrive/harddrive10tb/top/miniconda3/envs/auto-cover/lib/python3.8/site-packages/torch/nn/functional.py:718: UserWarning: Named tensors and all their associated APIs are an experimental feature and subject to change. Please do not use them for anything important until they are released as stable. (Triggered internally at  /pytorch/c10/core/TensorImpl.h:1156.)\n",
      "  return torch.max_pool2d(input, kernel_size, stride, padding, dilation, ceil_mode)\n"
     ]
    },
    {
     "output_type": "execute_result",
     "data": {
      "text/plain": [
       "tensor([[[[-0.1535,  0.2852, -0.3810,  ...,  0.1232, -0.2508,  0.2962],\n",
       "          [ 0.5655, -0.1773,  0.9363,  ..., -0.1112,  0.6558,  0.2844],\n",
       "          [-0.4446,  0.5665, -0.5376,  ...,  0.6814, -0.7537,  0.6347],\n",
       "          ...,\n",
       "          [ 0.3392, -0.1868,  0.8927,  ...,  0.0413,  0.7475,  0.0157],\n",
       "          [-0.2722,  0.9697, -0.6254,  ...,  0.7187, -0.7628,  0.8317],\n",
       "          [ 0.3050,  0.3325,  0.0593,  ...,  0.4668,  0.1689,  0.4474]]],\n",
       "\n",
       "\n",
       "        [[[-0.1535,  0.2852, -0.3810,  ...,  0.1232, -0.2508,  0.2962],\n",
       "          [ 0.5655, -0.1773,  0.9363,  ..., -0.1112,  0.6558,  0.2844],\n",
       "          [-0.4446,  0.5665, -0.5376,  ...,  0.6814, -0.7537,  0.6347],\n",
       "          ...,\n",
       "          [ 0.3392, -0.1868,  0.8927,  ...,  0.0413,  0.7475,  0.0157],\n",
       "          [-0.2722,  0.9697, -0.6254,  ...,  0.7187, -0.7628,  0.8317],\n",
       "          [ 0.3050,  0.3325,  0.0593,  ...,  0.4668,  0.1689,  0.4474]]],\n",
       "\n",
       "\n",
       "        [[[-0.1535,  0.2852, -0.3810,  ...,  0.1232, -0.2508,  0.2962],\n",
       "          [ 0.5655, -0.1773,  0.9363,  ..., -0.1112,  0.6558,  0.2844],\n",
       "          [-0.4446,  0.5665, -0.5376,  ...,  0.6814, -0.7537,  0.6347],\n",
       "          ...,\n",
       "          [ 0.3392, -0.1868,  0.8927,  ...,  0.0413,  0.7475,  0.0157],\n",
       "          [-0.2722,  0.9697, -0.6254,  ...,  0.7187, -0.7628,  0.8317],\n",
       "          [ 0.3050,  0.3325,  0.0593,  ...,  0.4668,  0.1689,  0.4474]]],\n",
       "\n",
       "\n",
       "        ...,\n",
       "\n",
       "\n",
       "        [[[-0.1535,  0.2852, -0.3810,  ...,  0.1232, -0.2508,  0.2962],\n",
       "          [ 0.5655, -0.1773,  0.9363,  ..., -0.1112,  0.6558,  0.2844],\n",
       "          [-0.4446,  0.5665, -0.5376,  ...,  0.6814, -0.7537,  0.6347],\n",
       "          ...,\n",
       "          [ 0.3392, -0.1868,  0.8927,  ...,  0.0413,  0.7475,  0.0157],\n",
       "          [-0.2722,  0.9697, -0.6254,  ...,  0.7187, -0.7628,  0.8317],\n",
       "          [ 0.3050,  0.3325,  0.0593,  ...,  0.4668,  0.1689,  0.4474]]],\n",
       "\n",
       "\n",
       "        [[[-0.1535,  0.2852, -0.3810,  ...,  0.1232, -0.2508,  0.2962],\n",
       "          [ 0.5655, -0.1773,  0.9363,  ..., -0.1112,  0.6558,  0.2844],\n",
       "          [-0.4446,  0.5665, -0.5376,  ...,  0.6814, -0.7537,  0.6347],\n",
       "          ...,\n",
       "          [ 0.3392, -0.1868,  0.8927,  ...,  0.0413,  0.7475,  0.0157],\n",
       "          [-0.2722,  0.9697, -0.6254,  ...,  0.7187, -0.7628,  0.8317],\n",
       "          [ 0.3050,  0.3325,  0.0593,  ...,  0.4668,  0.1689,  0.4474]]],\n",
       "\n",
       "\n",
       "        [[[-0.1535,  0.2852, -0.3810,  ...,  0.1232, -0.2508,  0.2962],\n",
       "          [ 0.5655, -0.1773,  0.9363,  ..., -0.1112,  0.6558,  0.2844],\n",
       "          [-0.4446,  0.5665, -0.5376,  ...,  0.6814, -0.7537,  0.6347],\n",
       "          ...,\n",
       "          [ 0.3392, -0.1868,  0.8927,  ...,  0.0413,  0.7475,  0.0157],\n",
       "          [-0.2722,  0.9697, -0.6254,  ...,  0.7187, -0.7628,  0.8317],\n",
       "          [ 0.3050,  0.3325,  0.0593,  ...,  0.4668,  0.1689,  0.4474]]]],\n",
       "       grad_fn=<MkldnnConvolutionBackward>)"
      ]
     },
     "metadata": {},
     "execution_count": 3
    }
   ],
   "metadata": {}
  },
  {
   "cell_type": "code",
   "execution_count": null,
   "source": [],
   "outputs": [],
   "metadata": {}
  }
 ],
 "metadata": {
  "orig_nbformat": 4,
  "language_info": {
   "name": "python",
   "version": "3.8.11",
   "mimetype": "text/x-python",
   "codemirror_mode": {
    "name": "ipython",
    "version": 3
   },
   "pygments_lexer": "ipython3",
   "nbconvert_exporter": "python",
   "file_extension": ".py"
  },
  "kernelspec": {
   "name": "python3",
   "display_name": "Python 3.8.11 64-bit ('auto-cover': conda)"
  },
  "interpreter": {
   "hash": "a2ad6353f4bf2403c647e07856a1052feab08e4e7192d58faf53b8aca7f33bb9"
  }
 },
 "nbformat": 4,
 "nbformat_minor": 2
}